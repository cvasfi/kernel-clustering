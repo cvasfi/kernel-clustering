{
 "cells": [
  {
   "cell_type": "code",
   "execution_count": null,
   "metadata": {},
   "outputs": [],
   "source": [
    "import mxnet as mx\n",
    "import numpy as np"
   ]
  },
  {
   "cell_type": "code",
   "execution_count": null,
   "metadata": {},
   "outputs": [],
   "source": [
    "prefix=\"cnn_models/resnet20_clustered8\"\n",
    "epoch=0\n",
    "sym, args, auxs = mx.mod.module.load_checkpoint(prefix, epoch)"
   ]
  },
  {
   "cell_type": "code",
   "execution_count": null,
   "metadata": {},
   "outputs": [],
   "source": [
    "def extract_cluster_centers(data):\n",
    "    shape = data.shape\n",
    "    nclusters = shape[0]/8\n",
    "    print shape\n",
    "    q_indices=np.zeros((shape[0],shape[1]))\n",
    "    codewords=np.zeros((nclusters, shape[1], shape[2], shape[3]))\n",
    "    \n",
    "    for channel in range(shape[1]):\n",
    "        cluster_centers, reconstructed_indices=np.unique(data[:,channel,:,:].asnumpy(), return_inverse=True, axis=0)\n",
    "        codewords[:,channel,:,:] = cluster_centers\n",
    "        q_indices[:,channel] =reconstructed_indices\n",
    "        \n",
    "    return  codewords, q_indices"
   ]
  },
  {
   "cell_type": "code",
   "execution_count": null,
   "metadata": {},
   "outputs": [],
   "source": [
    "def process_symbol(in_sym, in_args, in_shape):\n",
    "    layers = []\n",
    "    network = {}\n",
    "    filter_codebook={}\n",
    "    for element in in_sym.get_internals().list_outputs():\n",
    "         if \"conv\" in element and \"weight\" in element: #maybe tune for different networks\n",
    "                if \"conv0\" in element: #hack to exclude first layer\n",
    "                    continue\n",
    "                weight=in_args[element]\n",
    "                layer=element[:len(element)-7]\n",
    "                \n",
    "                codebook_filter, indices = extract_cluster_centers(weight)\n",
    "                lrshape=in_sym.get_internals()[layer+\"_output\"].infer_shape(data=in_shape)[1]\n",
    "                \n",
    "                layers.append(layer)\n",
    "                network[layer]={}\n",
    "                filter_codebook[layer] = weight\n",
    "                network[layer][\"indices\"] = indices\n",
    "                network[layer][\"f_shape\"]=weight.shape\n",
    "                network[layer][\"c_shape\"]=codebook_filter.shape\n",
    "                network[layer][\"out_shape\"] = lrshape\n",
    "                \n",
    "    return network\n",
    "    \n",
    "    \n",
    "net_info = process_symbol(sym,args,(7,3,32,32))    \n",
    "    "
   ]
  },
  {
   "cell_type": "code",
   "execution_count": null,
   "metadata": {},
   "outputs": [],
   "source": [
    "net_info"
   ]
  },
  {
   "cell_type": "code",
   "execution_count": null,
   "metadata": {},
   "outputs": [],
   "source": []
  },
  {
   "cell_type": "code",
   "execution_count": null,
   "metadata": {},
   "outputs": [],
   "source": [
    "sym.get_internals()['stage3_unit1_conv1_output'].infer_shape(data=(7,3,32,32))[1]"
   ]
  },
  {
   "cell_type": "code",
   "execution_count": null,
   "metadata": {},
   "outputs": [],
   "source": []
  }
 ],
 "metadata": {
  "kernelspec": {
   "display_name": "Python 2",
   "language": "python",
   "name": "python2"
  },
  "language_info": {
   "codemirror_mode": {
    "name": "ipython",
    "version": 2
   },
   "file_extension": ".py",
   "mimetype": "text/x-python",
   "name": "python",
   "nbconvert_exporter": "python",
   "pygments_lexer": "ipython2",
   "version": "2.7.14"
  }
 },
 "nbformat": 4,
 "nbformat_minor": 2
}
