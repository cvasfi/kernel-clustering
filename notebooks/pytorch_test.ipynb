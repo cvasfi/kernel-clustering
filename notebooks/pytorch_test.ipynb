{
 "cells": [
  {
   "cell_type": "code",
   "execution_count": 1,
   "metadata": {},
   "outputs": [],
   "source": [
    "import torch\n",
    "import torch.nn as nn\n",
    "import torch.nn.functional as F\n",
    "import time"
   ]
  },
  {
   "cell_type": "code",
   "execution_count": 2,
   "metadata": {},
   "outputs": [],
   "source": [
    "class Net(nn.Module):\n",
    "\n",
    "    def __init__(self, grouped=False):\n",
    "        super(Net, self).__init__()\n",
    "        # 1 input image channel, 6 output channels, 5x5 square convolution\n",
    "        # kernel\n",
    "        if grouped:\n",
    "            self.conv1 = torch.nn.Conv2d(in_channels=64,out_channels=64,kernel_size=3, groups=16)\n",
    "        else:\n",
    "            self.conv1 = torch.nn.Conv2d(in_channels=64,out_channels=128,kernel_size=3)\n",
    "\n",
    "    def forward(self, x):\n",
    "        # Max pooling over a (2, 2) window\n",
    "        x = self.conv1(x)\n",
    "        return x"
   ]
  },
  {
   "cell_type": "code",
   "execution_count": 3,
   "metadata": {},
   "outputs": [
    {
     "name": "stdout",
     "output_type": "stream",
     "text": [
      "1.03984498978\n",
      "0.0877940654755\n"
     ]
    }
   ],
   "source": [
    "x=torch.rand(7,64,32,32).cuda()\n",
    "net=Net(grouped=False)\n",
    "net.cuda()\n",
    "torchinput = torch.autograd.Variable(x).cuda()\n",
    "\n",
    "begin=time.time()\n",
    "for i in range(100):\n",
    "    net(torchinput)\n",
    "print time.time()-begin\n",
    "\n",
    "net=Net(grouped=True)\n",
    "net.cuda()\n",
    "\n",
    "begin=time.time()\n",
    "for i in range(100):\n",
    "    net(torchinput)\n",
    "print time.time()-begin"
   ]
  },
  {
   "cell_type": "code",
   "execution_count": 4,
   "metadata": {},
   "outputs": [
    {
     "name": "stderr",
     "output_type": "stream",
     "text": [
      "/home/tapir/miniconda2/lib/python2.7/site-packages/h5py/__init__.py:36: FutureWarning: Conversion of the second argument of issubdtype from `float` to `np.floating` is deprecated. In future, it will be treated as `np.float64 == np.dtype(float).type`.\n",
      "  from ._conv import register_converters as _register_converters\n"
     ]
    }
   ],
   "source": [
    "import mxnet as mx"
   ]
  },
  {
   "cell_type": "code",
   "execution_count": 5,
   "metadata": {},
   "outputs": [
    {
     "name": "stderr",
     "output_type": "stream",
     "text": [
      "/home/tapir/miniconda2/lib/python2.7/site-packages/mxnet/module/base_module.py:54: UserWarning: \u001b[91mYou created Module with Module(..., label_names=['softmax_label']) but input with name 'softmax_label' is not found in symbol.list_arguments(). Did you mean one of:\n",
      "\tdata\u001b[0m\n",
      "  warnings.warn(msg)\n",
      "/home/tapir/miniconda2/lib/python2.7/site-packages/mxnet/module/base_module.py:66: UserWarning: Data provided by label_shapes don't match names specified by label_names ([] vs. ['softmax_label'])\n",
      "  warnings.warn(msg)\n"
     ]
    }
   ],
   "source": [
    "data=mx.sym.Variable('data')\n",
    "ctx=mx.gpu()\n",
    "\n",
    "sym1=mx.sym.Convolution(data, num_filter=128, kernel=(3,3))\n",
    "sym2=mx.sym.Convolution(data, num_filter=1024, kernel=(3,3), num_group=16)\n",
    "\n",
    "img = img=mx.nd.random.uniform(0, 1, shape=(7,64,32,32))\n",
    "data_iter = mx.io.NDArrayIter(img, batch_size= 7, label_name=None)\n",
    "\n",
    "mod1=mx.mod.Module(symbol=sym1, context=ctx)\n",
    "mod2=mx.mod.Module(symbol=sym2, context=ctx)\n",
    "\n",
    "mod1.bind( data_shapes=data_iter.provide_data)\n",
    "mod2.bind( data_shapes=data_iter.provide_data)\n",
    "\n",
    "mod1.init_params()\n",
    "mod2.init_params()"
   ]
  },
  {
   "cell_type": "code",
   "execution_count": 6,
   "metadata": {},
   "outputs": [
    {
     "name": "stdout",
     "output_type": "stream",
     "text": [
      "0.884229898453\n",
      "3.17296814919\n"
     ]
    }
   ],
   "source": [
    "begin=time.time()\n",
    "for i in range(100):\n",
    "    mod1.predict(data_iter).asnumpy()\n",
    "print time.time()-begin\n",
    "\n",
    "\n",
    "begin=time.time()\n",
    "for i in range(100):\n",
    "    mod2.predict(data_iter).asnumpy()\n",
    "print time.time()-begin\n"
   ]
  },
  {
   "cell_type": "code",
   "execution_count": null,
   "metadata": {},
   "outputs": [],
   "source": []
  },
  {
   "cell_type": "code",
   "execution_count": null,
   "metadata": {},
   "outputs": [],
   "source": []
  },
  {
   "cell_type": "code",
   "execution_count": null,
   "metadata": {},
   "outputs": [],
   "source": []
  },
  {
   "cell_type": "code",
   "execution_count": 34,
   "metadata": {},
   "outputs": [],
   "source": [
    "class Net(nn.Module):\n",
    "\n",
    "    def __init__(self,inch, double=False):\n",
    "        super(Net, self).__init__()\n",
    "        # 1 input image channel, 6 output channels, 5x5 square convolution\n",
    "        # kernel\n",
    "        if double:\n",
    "            self.conv1 = torch.nn.Conv2d(in_channels=inch,out_channels=2*inch,kernel_size=3)\n",
    "        else:\n",
    "            self.conv1 = torch.nn.Conv2d(in_channels=inch,out_channels=inch,kernel_size=3)\n",
    "\n",
    "    def forward(self, x):\n",
    "        # Max pooling over a (2, 2) window\n",
    "        x = self.conv1(x)\n",
    "        return x"
   ]
  },
  {
   "cell_type": "code",
   "execution_count": 36,
   "metadata": {},
   "outputs": [
    {
     "name": "stdout",
     "output_type": "stream",
     "text": [
      "0.947057962418\n",
      "(7, 64, 30, 30)\n",
      "1.63933706284\n",
      "(7, 128, 30, 30)\n"
     ]
    }
   ],
   "source": [
    "x=torch.rand(7,64,32,32)\n",
    "net=Net(x.shape[1],double=False)\n",
    "net\n",
    "torchinput = torch.autograd.Variable(x)\n",
    "\n",
    "begin=time.time()\n",
    "for i in range(100):\n",
    "    res=net(torchinput).data.numpy()\n",
    "print time.time()-begin\n",
    "\n",
    "print res.shape\n",
    "\n",
    "net=Net(x.shape[1],double=True)\n",
    "\n",
    "begin=time.time()\n",
    "for i in range(100):\n",
    "    res= net(torchinput).data.numpy()\n",
    "print time.time()-begin\n",
    "print res.shape\n"
   ]
  },
  {
   "cell_type": "code",
   "execution_count": 37,
   "metadata": {},
   "outputs": [],
   "source": [
    "import mxnet as mx\n",
    "data=mx.sym.Variable('data')\n",
    "ctx=mx.cpu()\n",
    "\n",
    "sym1=mx.sym.Convolution(data, num_filter=64, kernel=(3,3))\n",
    "sym2=mx.sym.Convolution(data, num_filter=128, kernel=(3,3))\n",
    "\n",
    "img = img=mx.nd.random.uniform(0, 1, shape=(7,64,32,32))\n",
    "data_iter = mx.io.NDArrayIter(img, batch_size= 7, label_name=None)\n",
    "\n",
    "mod1=mx.mod.Module(symbol=sym1, context=ctx)\n",
    "mod2=mx.mod.Module(symbol=sym2, context=ctx)\n",
    "\n",
    "mod1.bind( data_shapes=data_iter.provide_data)\n",
    "mod2.bind( data_shapes=data_iter.provide_data)\n",
    "\n",
    "mod1.init_params()\n",
    "mod2.init_params()"
   ]
  },
  {
   "cell_type": "code",
   "execution_count": 38,
   "metadata": {},
   "outputs": [
    {
     "name": "stdout",
     "output_type": "stream",
     "text": [
      "1.59898805618\n",
      "(7, 64, 30, 30)\n",
      "2.50224304199\n",
      "(7, 128, 30, 30)\n"
     ]
    }
   ],
   "source": [
    "begin=time.time()\n",
    "for i in range(100):\n",
    "    res1=mod1.predict(data_iter).asnumpy()\n",
    "print time.time()-begin\n",
    "\n",
    "print res1.shape\n",
    "\n",
    "begin=time.time()\n",
    "for i in range(100):\n",
    "    res2=mod2.predict(data_iter).asnumpy()\n",
    "print time.time()-begin\n",
    "\n",
    "print res2.shape"
   ]
  },
  {
   "cell_type": "code",
   "execution_count": null,
   "metadata": {},
   "outputs": [],
   "source": []
  }
 ],
 "metadata": {
  "kernelspec": {
   "display_name": "Python 2",
   "language": "python",
   "name": "python2"
  },
  "language_info": {
   "codemirror_mode": {
    "name": "ipython",
    "version": 2
   },
   "file_extension": ".py",
   "mimetype": "text/x-python",
   "name": "python",
   "nbconvert_exporter": "python",
   "pygments_lexer": "ipython2",
   "version": "2.7.14"
  }
 },
 "nbformat": 4,
 "nbformat_minor": 2
}
