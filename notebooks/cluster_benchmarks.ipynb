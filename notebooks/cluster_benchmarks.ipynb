{
 "cells": [
  {
   "cell_type": "code",
   "execution_count": 1,
   "metadata": {},
   "outputs": [
    {
     "name": "stderr",
     "output_type": "stream",
     "text": [
      "/home/tapir/miniconda2/lib/python2.7/site-packages/h5py/__init__.py:36: FutureWarning: Conversion of the second argument of issubdtype from `float` to `np.floating` is deprecated. In future, it will be treated as `np.float64 == np.dtype(float).type`.\n",
      "  from ._conv import register_converters as _register_converters\n"
     ]
    }
   ],
   "source": [
    "import mxnet as mx\n",
    "import numpy as np\n",
    "from sklearn.cluster import KMeans"
   ]
  },
  {
   "cell_type": "code",
   "execution_count": 14,
   "metadata": {},
   "outputs": [],
   "source": [
    "prefix=\"cnn_models/resnet20\"\n",
    "epoch=124\n",
    "\n",
    "sym, args, auxs = mx.mod.module.load_checkpoint(prefix, epoch)\n",
    "\n",
    "batch_size=32\n",
    "val_iter=mx.image.ImageIter(batch_size=batch_size,data_shape=(3,32,32),path_imgrec=\"dataset/cifar10_val.rec\")\n",
    "testarray=val_iter.next().data\n",
    "\n",
    "test_iter=mx.io.NDArrayIter(testarray,batch_size=batch_size)\n",
    "speedups=[]"
   ]
  },
  {
   "cell_type": "code",
   "execution_count": 3,
   "metadata": {},
   "outputs": [],
   "source": [
    "def get_tensor(symbol_input):\n",
    "    mod=mx.mod.Module(symbol=symbol_input, context=mx.cpu(),label_names=None)\n",
    "    mod.bind(for_training=False, data_shapes=test_iter.provide_data)\n",
    "    mod.set_params(args, auxs)\n",
    "    return mod.predict(eval_data=test_iter)"
   ]
  },
  {
   "cell_type": "code",
   "execution_count": null,
   "metadata": {},
   "outputs": [],
   "source": [
    "def get_channelwise_clustered(filters, shrink):\n",
    "    shape = filters.shape\n",
    "    print shape\n",
    "    result=np.zeros(shape)\n",
    "    n_clusters = int(shape[0] / shrink)\n",
    "    print filters[:,0,:,:].shape\n",
    "    print n_clusters\n",
    "\n",
    "    for channel_idx in range(shape[1]):\n",
    "\n",
    "        channelwise_filters = filters[:,channel_idx,:,:]\n",
    "        cw_shape=channelwise_filters.shape\n",
    "\n",
    "        channelwise_filters_shaped = channelwise_filters.reshape((cw_shape[0], cw_shape[1] * cw_shape[2]))\n",
    "        estimator = KMeans(n_clusters=n_clusters)\n",
    "        estimator.fit(channelwise_filters_shaped.asnumpy())\n",
    "\n",
    "        cw_filter_kmean_indexes = estimator.predict(X=channelwise_filters_shaped.asnumpy())\n",
    "        cw_filters_quantized = np.array([estimator.cluster_centers_[idx] for idx in cw_filter_kmean_indexes])\n",
    "\n",
    "        result[:,channel_idx,:,:]=cw_filters_quantized.reshape(cw_shape)\n",
    "    return mx.nd.array(result)\n",
    "        "
   ]
  },
  {
   "cell_type": "code",
   "execution_count": 11,
   "metadata": {},
   "outputs": [],
   "source": [
    "def get_quantized(filters, shrink=16):\n",
    "    shape=filters.shape\n",
    "    n_clusters=shape[0]*shape[1]/shrink\n",
    "\n",
    "    filters_shaped=filters.reshape((shape[0] * shape[1], shape[2] * shape[3]))\n",
    "    estimator = KMeans(n_clusters=n_clusters)\n",
    "    estimator.fit(filters_shaped.asnumpy())\n",
    "\n",
    "    filter_kmean_indexes = estimator.predict(X=filters_shaped.asnumpy())\n",
    "    filters_quantized = np.array([estimator.cluster_centers_[idx] for idx in filter_kmean_indexes])\n",
    "    filters_quantized = mx.nd.array(filters_quantized)\n",
    "\n",
    "\n",
    "\n",
    "    fq= filters_quantized.reshape(shape)\n",
    "\n",
    "    sum=0\n",
    "\n",
    "    for channel in range(shape[1]):\n",
    "        filters_in_channel = fq[:,channel,:,:]\n",
    "        nclusters_channel = np.unique(filters_in_channel.asnumpy(),axis=0)\n",
    "        sum+=nclusters_channel.shape[0]\n",
    "        #print nclusters_channel.shape[0]\n",
    "\n",
    "\n",
    "    speedups.append(float(shape[0]*shape[1])/sum)\n",
    "\n",
    "    return fq"
   ]
  },
  {
   "cell_type": "code",
   "execution_count": 12,
   "metadata": {},
   "outputs": [],
   "source": [
    "def get_layer_sqr_error(in_layer,out_layer, layer_weights, shrink):\n",
    "    sym_in = sym.get_internals()[in_layer]\n",
    "    sym_out_original = sym.get_internals()[out_layer]\n",
    "\n",
    "    tensor_in = get_tensor(sym_in)\n",
    "    tensor_out_original = get_tensor(sym_out_original)\n",
    "    num_filter=tensor_out_original.shape[1]\n",
    "    stride=tensor_in.shape[3]//tensor_out_original.shape[3]\n",
    "\n",
    "\n",
    "    filters = args[layer_weights]\n",
    "\n",
    "    filters_quantized_reshaped=get_quantized(filters,shrink)\n",
    "\n",
    "    clustered_result = mx.ndarray.Convolution(data=tensor_in, weight=filters_quantized_reshaped, num_filter=num_filter,\n",
    "                                              kernel=(3, 3), stride=(stride, stride), pad=(1, 1),no_bias=True, name=\"conv0\")\n",
    "\n",
    "    return np.square(tensor_out_original.asnumpy() - clustered_result.asnumpy()).mean()"
   ]
  },
  {
   "cell_type": "code",
   "execution_count": 15,
   "metadata": {},
   "outputs": [
    {
     "data": {
      "text/plain": [
       "0.73077667"
      ]
     },
     "execution_count": 15,
     "metadata": {},
     "output_type": "execute_result"
    }
   ],
   "source": [
    "get_layer_sqr_error('stage3_unit1_relu1_output','stage3_unit1_conv1_output','stage3_unit1_conv1_weight',2)"
   ]
  },
  {
   "cell_type": "code",
   "execution_count": 16,
   "metadata": {},
   "outputs": [
    {
     "name": "stdout",
     "output_type": "stream",
     "text": [
      "[1.030699547055863]\n"
     ]
    }
   ],
   "source": [
    "print speedups"
   ]
  },
  {
   "cell_type": "code",
   "execution_count": null,
   "metadata": {},
   "outputs": [],
   "source": []
  }
 ],
 "metadata": {
  "kernelspec": {
   "display_name": "Python 2",
   "language": "python",
   "name": "python2"
  },
  "language_info": {
   "codemirror_mode": {
    "name": "ipython",
    "version": 2
   },
   "file_extension": ".py",
   "mimetype": "text/x-python",
   "name": "python",
   "nbconvert_exporter": "python",
   "pygments_lexer": "ipython2",
   "version": "2.7.14"
  }
 },
 "nbformat": 4,
 "nbformat_minor": 2
}
