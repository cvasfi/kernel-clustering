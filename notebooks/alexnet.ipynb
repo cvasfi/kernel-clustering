{
 "cells": [
  {
   "cell_type": "code",
   "execution_count": null,
   "metadata": {},
   "outputs": [],
   "source": [
    "import mxnet as mx\n",
    "import numpy as np\n",
    "import time\n",
    "from sklearn.cluster import KMeans\n"
   ]
  },
  {
   "cell_type": "code",
   "execution_count": null,
   "metadata": {},
   "outputs": [],
   "source": [
    "def get_channelwise_clustered(filters, shrink):\n",
    "    shape = filters.shape\n",
    "    result=np.zeros(shape)\n",
    "    n_clusters = int(shape[0] / shrink)\n",
    "\n",
    "    for channel_idx in range(shape[1]):\n",
    "\n",
    "        channelwise_filters = filters[:,channel_idx,:,:]\n",
    "        cw_shape=channelwise_filters.shape\n",
    "\n",
    "        channelwise_filters_shaped = channelwise_filters.reshape((cw_shape[0], cw_shape[1] * cw_shape[2]))\n",
    "        estimator = KMeans(n_clusters=n_clusters)\n",
    "        estimator.fit(channelwise_filters_shaped.asnumpy())\n",
    "\n",
    "        cw_filter_kmean_indexes = estimator.predict(X=channelwise_filters_shaped.asnumpy())\n",
    "        cw_filters_quantized = np.array([estimator.cluster_centers_[idx] for idx in cw_filter_kmean_indexes])\n",
    "\n",
    "        result[:,channel_idx,:,:]=cw_filters_quantized.reshape(cw_shape)\n",
    "\n",
    "    return mx.nd.array(result)\n",
    "def get_speedup(in_args,layers):\n",
    "    original = 0\n",
    "    clustered = 0\n",
    "\n",
    "    for layer in layers:\n",
    "        filter=in_args[layer]\n",
    "        shape=filter.shape\n",
    "\n",
    "\n",
    "        for channel in range(shape[1]):\n",
    "            filters_in_channel = filter[:,channel,:,:]\n",
    "            nclusters_channel = np.unique(filters_in_channel.asnumpy(),axis=0)\n",
    "            clustered+=nclusters_channel.shape[0]\n",
    "            #print nclusters_channel.shape[0]\n",
    "\n",
    "        original+=shape[0]*shape[1]\n",
    "    print original\n",
    "    print clustered\n",
    "\n",
    "    return float(original)/clustered\n",
    "def naive_clusternet(sym,args,shrink):\n",
    "    layers=[]\n",
    "    for l in sym.get_internals().list_outputs():\n",
    "        if \"weight\" in l and \"fc\" not in l:\n",
    "            layers.append(l)\n",
    "            #args[l] = get_quantized(args[l], 8)\n",
    "            args[l] = get_channelwise_clustered(args[l], shrink)\n",
    "\n",
    "    return layers"
   ]
  },
  {
   "cell_type": "code",
   "execution_count": null,
   "metadata": {},
   "outputs": [],
   "source": [
    "prefix = \"../cnn_models/alexnet/bvlc_alexnet\"\n",
    "epoch = 0\n",
    "sym, args, auxs = mx.mod.module.load_checkpoint(prefix, epoch)\n"
   ]
  },
  {
   "cell_type": "code",
   "execution_count": null,
   "metadata": {},
   "outputs": [],
   "source": [
    "layers = naive_clusternet(sym,args,8)\n",
    "get_speedup(args,layers)"
   ]
  },
  {
   "cell_type": "code",
   "execution_count": null,
   "metadata": {},
   "outputs": [],
   "source": [
    "mod = mx.mod.Module(symbol=sym, context=mx.cpu())\n",
    "mod.bind(for_training=False, data_shapes=(32,3,224,224))\n",
    "mod.set_params(args, auxs, allow_missing=True)\n",
    "mod.save_checkpoint(prefix=prefix+\"_clustered8x\",epoch=0)"
   ]
  },
  {
   "cell_type": "code",
   "execution_count": null,
   "metadata": {},
   "outputs": [],
   "source": [
    "############## to test if clustering is scucessful\n",
    "prefix_test = prefix+\"_clustered8x\"\n",
    "epoch_test = 0\n",
    "sym_test, args_test, auxs_test = mx.mod.module.load_checkpoint(prefix_test, epoch_test)\n",
    "layers_test=[l for l in sym_test.get_internals().list_outputs() if \"weight\" in l and \"fc\" not in l]\n",
    "get_speedup(args_test,layers=layers_test)"
   ]
  },
  {
   "cell_type": "code",
   "execution_count": null,
   "metadata": {},
   "outputs": [],
   "source": [
    "def get_tensor(symbol_input, args, auxs, data_iter):\n",
    "    mod=mx.mod.Module(symbol=symbol_input, context=mx.cpu(),label_names=None)\n",
    "    mod.bind(for_training=False, data_shapes=data_iter.provide_data)\n",
    "    mod.set_params(args, auxs)\n",
    "    return mod.predict(eval_data=data_iter)\n"
   ]
  },
  {
   "cell_type": "code",
   "execution_count": null,
   "metadata": {},
   "outputs": [],
   "source": []
  },
  {
   "cell_type": "code",
   "execution_count": null,
   "metadata": {},
   "outputs": [],
   "source": [
    "data_iter=mx.io.NDArrayIter(mx.nd.random_uniform(0,1,shape=(2,3,224,224)), batch_size=2)"
   ]
  },
  {
   "cell_type": "code",
   "execution_count": null,
   "metadata": {},
   "outputs": [],
   "source": [
    "sym_conv1_in=sym.get_internals()['data']\n",
    "sym_conv1_out=sym.get_internals()['conv1_output']\n",
    "\n",
    "tensor_conv1_in  = get_tensor(sym_conv1_in,data_iter)\n",
    "tensor_conv1_out = get_tensor(sym_conv1_out,data_iter)"
   ]
  },
  {
   "cell_type": "code",
   "execution_count": null,
   "metadata": {},
   "outputs": [],
   "source": [
    "tensor_conv1_out.shape"
   ]
  },
  {
   "cell_type": "code",
   "execution_count": null,
   "metadata": {},
   "outputs": [],
   "source": [
    "import sys\n",
    "import os\n",
    "sys.path.append(os.path.dirname(os.getcwd()))\n",
    "import AlexNet"
   ]
  },
  {
   "cell_type": "code",
   "execution_count": null,
   "metadata": {},
   "outputs": [],
   "source": [
    "sym_alex= AlexNet.get_symbol(1000)"
   ]
  },
  {
   "cell_type": "code",
   "execution_count": null,
   "metadata": {},
   "outputs": [],
   "source": [
    "for x,y in zip(sym_test.get_internals().list_outputs(), sym_alex.get_internals().list_outputs()):\n",
    "    if x!=y:\n",
    "        print \"false\"\n",
    "        print x\n",
    "        print y"
   ]
  },
  {
   "cell_type": "code",
   "execution_count": null,
   "metadata": {},
   "outputs": [],
   "source": [
    "sym_alex.get_internals().list_outputs()"
   ]
  },
  {
   "cell_type": "code",
   "execution_count": null,
   "metadata": {},
   "outputs": [],
   "source": [
    "tensor1=get_tensor(sym_test.get_internals()['prob_output'],args_test, auxs_test, data_iter=data_iter)\n",
    "tensor2=get_tensor(sym_alex.get_internals()['prob_output'], args_test, auxs_test, data_iter=data_iter)\n"
   ]
  },
  {
   "cell_type": "code",
   "execution_count": null,
   "metadata": {},
   "outputs": [],
   "source": [
    "np.array_equal(tensor1.asnumpy(), tensor2.asnumpy())"
   ]
  },
  {
   "cell_type": "code",
   "execution_count": null,
   "metadata": {},
   "outputs": [],
   "source": []
  }
 ],
 "metadata": {
  "kernelspec": {
   "display_name": "Python 2",
   "language": "python",
   "name": "python2"
  },
  "language_info": {
   "codemirror_mode": {
    "name": "ipython",
    "version": 2
   },
   "file_extension": ".py",
   "mimetype": "text/x-python",
   "name": "python",
   "nbconvert_exporter": "python",
   "pygments_lexer": "ipython2",
   "version": "2.7.14"
  }
 },
 "nbformat": 4,
 "nbformat_minor": 2
}
