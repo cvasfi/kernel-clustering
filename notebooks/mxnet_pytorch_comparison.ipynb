{
 "cells": [
  {
   "cell_type": "code",
   "execution_count": 1,
   "metadata": {},
   "outputs": [
    {
     "name": "stderr",
     "output_type": "stream",
     "text": [
      "/home/tapir/miniconda2/lib/python2.7/site-packages/h5py/__init__.py:36: FutureWarning: Conversion of the second argument of issubdtype from `float` to `np.floating` is deprecated. In future, it will be treated as `np.float64 == np.dtype(float).type`.\n",
      "  from ._conv import register_converters as _register_converters\n"
     ]
    }
   ],
   "source": [
    "import mxnet as mx\n",
    "import time\n",
    "import numpy as np"
   ]
  },
  {
   "cell_type": "code",
   "execution_count": 2,
   "metadata": {},
   "outputs": [],
   "source": [
    "def get_onehot(data, nclusters, batch_size):\n",
    "    index_mat = mx.nd.one_hot(data, depth=nclusters).reshape(0, -1)\n",
    "    return mx.nd.broadcast_axes(mx.nd.expand_dims(index_mat, axis=0), axis=0, size=batch_size)"
   ]
  },
  {
   "cell_type": "code",
   "execution_count": null,
   "metadata": {},
   "outputs": [],
   "source": [
    "img =mx.nd.random.uniform(0, 1, shape=(7,128,32,32))\n",
    "nclusters=128\n",
    "indices=mx.nd.array(np.random.choice(128, 256)) #shape = (128,)\n",
    "\n",
    "data=mx.sym.Variable('data')\n",
    "indices_sym=mx.sym.Variable('indices', shape=indices.shape)\n",
    "indices_sym4=mx.sym.Variable('indices', shape=indices4.shape)\n",
    "\n",
    "ctx=mx.cpu()\n",
    "\n",
    "data_iter = mx.io.NDArrayIter(img, batch_size= 1, label_name=None)\n",
    "\n",
    "sym1=mx.sym.Convolution(data, num_filter=256, kernel=(3,3))\n",
    "sym2=mx.sym.Convolution(data, num_filter=1024, kernel=(3,3), num_group=64)\n",
    "\n",
    "sym3=mx.sym.Convolution(data, num_filter=nclusters, kernel=(3,3))\n",
    "sym3=mx.sym.batch_dot(lhs=indices_sym,rhs=sym3.reshape((0,0,-1)))\n",
    "\n",
    "sym4=mx.sym.Convolution(data, num_filter=nclusters, kernel=(3,3))\n",
    "for\n",
    "\n",
    "mod1=mx.mod.Module(symbol=sym1, context=ctx)\n",
    "mod2=mx.mod.Module(symbol=sym2, context=ctx)\n",
    "mod3=mx.mod.Module(symbol=sym3, context=ctx)\n",
    "mod4=mx.mod.Module(symbol=sym4, context=ctx)\n",
    "\n",
    "args3={\"indices\": indices}\n",
    "\n",
    "\n",
    "mod1.bind( data_shapes=data_iter.provide_data)\n",
    "mod2.bind( data_shapes=data_iter.provide_data)\n",
    "mod3.bind( data_shapes=data_iter.provide_data)\n",
    "mod4.bind( data_shapes=data_iter.provide_data)\n",
    "\n",
    "mod1.init_params()\n",
    "mod2.init_params()\n",
    "mod3.set_params(arg_params=args3, aux_params=None, allow_missing=True)"
   ]
  }
 ],
 "metadata": {
  "kernelspec": {
   "display_name": "Python 2",
   "language": "python",
   "name": "python2"
  },
  "language_info": {
   "codemirror_mode": {
    "name": "ipython",
    "version": 2
   },
   "file_extension": ".py",
   "mimetype": "text/x-python",
   "name": "python",
   "nbconvert_exporter": "python",
   "pygments_lexer": "ipython2",
   "version": "2.7.14"
  }
 },
 "nbformat": 4,
 "nbformat_minor": 2
}
