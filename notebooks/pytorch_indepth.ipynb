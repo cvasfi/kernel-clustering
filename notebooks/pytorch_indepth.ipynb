{
 "cells": [
  {
   "cell_type": "code",
   "execution_count": 1,
   "metadata": {},
   "outputs": [],
   "source": [
    "import torch\n",
    "import torch.nn as nn\n",
    "import torch.nn.functional as F\n",
    "import time\n",
    "import numpy as np"
   ]
  },
  {
   "cell_type": "code",
   "execution_count": 2,
   "metadata": {},
   "outputs": [],
   "source": [
    "def get_quantized_filters(filters, shrink=16):\n",
    "    shape=filters.shape\n",
    "    n_clusters=shape[0]/shrink\n",
    "\n",
    "    filters_shaped=filters.reshape((shape[0], shape[1] * shape[2] * shape[3]))\n",
    "    estimator = KMeans(n_clusters=n_clusters)\n",
    "    estimator.fit(filters_shaped.asnumpy())\n",
    "\n",
    "    filter_kmean_indexes = estimator.predict(X=filters_shaped.asnumpy())\n",
    "    filters_quantized = np.array([estimator.cluster_centers_[idx] for idx in filter_kmean_indexes])\n",
    "\n",
    "    return mx.nd.array(filter_kmean_indexes), mx.nd.array(estimator.cluster_centers_), mx.nd.array(filters_quantized)\n",
    "\n",
    "          \n",
    "def get_onehot(data, nclusters, batch_size):\n",
    "    index_mat = mx.nd.one_hot(data, depth=nclusters).reshape(0, -1)\n",
    "    return mx.nd.broadcast_axes(mx.nd.expand_dims(index_mat, axis=0), axis=0, size=batch_size)"
   ]
  },
  {
   "cell_type": "code",
   "execution_count": 15,
   "metadata": {},
   "outputs": [],
   "source": [
    "class Net1(nn.Module):\n",
    "\n",
    "    def __init__(self, inchannels, ochannels):\n",
    "        super(Net1, self).__init__()\n",
    "        # 1 input image channel, 6 output channels, 5x5 square convolution\n",
    "        # kernel\n",
    "        self.conv1 = torch.nn.Conv2d(in_channels=inchannels,out_channels=ochannels,kernel_size=3)\n",
    "\n",
    "    def forward(self, x):\n",
    "        # Max pooling over a (2, 2) window\n",
    "        x = self.conv1(x)\n",
    "        return x\n",
    "    \n",
    "class Net2(nn.Module):\n",
    "\n",
    "    def __init__(self, inchannels, ochannels, shrink=2, indices=None):\n",
    "        super(Net2, self).__init__()\n",
    "        # 1 input image channel, 6 output channels, 5x5 square convolution\n",
    "        # kernel\n",
    "        self.indices=indices\n",
    "        print ochannels/shrink\n",
    "        self.conv1 = torch.nn.Conv2d(in_channels=inchannels,out_channels=ochannels/shrink,kernel_size=3)\n",
    "        \n",
    "\n",
    "    def forward(self, x):\n",
    "        # Max pooling over a (2, 2) window\n",
    "        x = self.conv1(x)\n",
    "        x = torch.index_select(x, 1, self.indices)\n",
    "        return x\n",
    "    \n",
    "class Net3(nn.Module):\n",
    "\n",
    "    def __init__(self, inchannels, ochannels, shrink=2, indices=None):\n",
    "        super(Net3, self).__init__()\n",
    "        # 1 input image channel, 6 output channels, 5x5 square convolution\n",
    "        # kernel\n",
    "        self.indices=indices\n",
    "        self.conv1 = torch.nn.Conv2d(in_channels=inchannels,out_channels=ochannels/shrink,kernel_size=3)\n",
    "        \n",
    "\n",
    "    def forward(self, x,):\n",
    "        # Max pooling over a (2, 2) window\n",
    "        x = self.conv1(x)\n",
    "        shape=x.shape\n",
    "        print shape\n",
    "        print self.indices.shape\n",
    "        x = torch.matmul(self.indices,x.reshape((shape[0],shape[1],shape[2]*shape[3] )))\n",
    "        shape2=x.shape\n",
    "        return x.reshape(shape2[0], shape2[1],shape[2], shape[3])\n",
    "\n",
    "\n",
    "def get_with_context(data,ctx=False):\n",
    "    if ctx:\n",
    "        return data.cuda()\n",
    "    return data\n",
    "    \n",
    "def get_res_with_ctx(inp,ctx=False):\n",
    "    if ctx:\n",
    "        return inp.cpu().data.numpy()\n",
    "    else:\n",
    "        return inp.data.numpy()\n",
    "        \n",
    "usecuda=False\n",
    "\n",
    "batch=128\n",
    "ich=16\n",
    "och=32\n",
    "shrink = 2\n",
    "x=get_with_context(torch.rand(batch,ich,27,27),usecuda)\n",
    "oshape=(32,och,32,32)\n",
    "xshape=x.shape"
   ]
  },
  {
   "cell_type": "markdown",
   "metadata": {},
   "source": [
    "The original: 128 to 256"
   ]
  },
  {
   "cell_type": "code",
   "execution_count": 16,
   "metadata": {},
   "outputs": [
    {
     "name": "stdout",
     "output_type": "stream",
     "text": [
      "0.300846099854\n",
      "(128, 32, 25, 25)\n"
     ]
    }
   ],
   "source": [
    "net=get_with_context(Net1(x.shape[1], och), usecuda)\n",
    "\n",
    "begin=time.time()\n",
    "for i in range(10):\n",
    "    res=get_res_with_ctx(net(x),usecuda)\n",
    "t1=time.time()-begin\n",
    "print t1\n",
    "print res.shape"
   ]
  },
  {
   "cell_type": "markdown",
   "metadata": {},
   "source": [
    "clusterconv using lookup"
   ]
  },
  {
   "cell_type": "code",
   "execution_count": 17,
   "metadata": {},
   "outputs": [
    {
     "name": "stdout",
     "output_type": "stream",
     "text": [
      "16\n",
      "0.202553033829\n",
      "(128, 32, 25, 25)\n"
     ]
    }
   ],
   "source": [
    "indices=get_with_context(torch.LongTensor(np.random.choice(och/shrink, och)),usecuda)\n",
    "net=get_with_context(Net2(x.shape[1], och, shrink, indices),usecuda)\n",
    "\n",
    "begin=time.time()\n",
    "for i in range(10):\n",
    "    res=get_res_with_ctx(net(x),usecuda)\n",
    "t2=time.time()-begin\n",
    "print t2\n",
    "print res.shape"
   ]
  },
  {
   "cell_type": "markdown",
   "metadata": {},
   "source": [
    "clusterconv using matmul"
   ]
  },
  {
   "cell_type": "code",
   "execution_count": 14,
   "metadata": {},
   "outputs": [
    {
     "name": "stdout",
     "output_type": "stream",
     "text": [
      "1.80984535001\n"
     ]
    }
   ],
   "source": [
    "speedup=float(t1)/t2\n",
    "print speedup"
   ]
  },
  {
   "cell_type": "code",
   "execution_count": null,
   "metadata": {},
   "outputs": [],
   "source": []
  },
  {
   "cell_type": "code",
   "execution_count": null,
   "metadata": {},
   "outputs": [],
   "source": [
    "indices2=get_with_context(torch.rand(och, och/shrink),usecuda)\n",
    "net=get_with_context(Net3(x.shape[1], och, shrink, indices2),usecuda)\n",
    "\n",
    "begin=time.time()\n",
    "for i in range(100):\n",
    "    res=get_res_with_ctx(net(x),usecuda)\n",
    "t3=time.time()-begin\n",
    "print t3\n",
    "print res.shape"
   ]
  },
  {
   "cell_type": "code",
   "execution_count": null,
   "metadata": {},
   "outputs": [],
   "source": []
  }
 ],
 "metadata": {
  "kernelspec": {
   "display_name": "Python 2",
   "language": "python",
   "name": "python2"
  },
  "language_info": {
   "codemirror_mode": {
    "name": "ipython",
    "version": 2
   },
   "file_extension": ".py",
   "mimetype": "text/x-python",
   "name": "python",
   "nbconvert_exporter": "python",
   "pygments_lexer": "ipython2",
   "version": "2.7.14"
  }
 },
 "nbformat": 4,
 "nbformat_minor": 2
}
