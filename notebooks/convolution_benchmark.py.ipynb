{
 "cells": [
  {
   "cell_type": "code",
   "execution_count": 2,
   "metadata": {},
   "outputs": [
    {
     "name": "stderr",
     "output_type": "stream",
     "text": [
      "/home/tapir/miniconda2/lib/python2.7/site-packages/h5py/__init__.py:36: FutureWarning: Conversion of the second argument of issubdtype from `float` to `np.floating` is deprecated. In future, it will be treated as `np.float64 == np.dtype(float).type`.\n",
      "  from ._conv import register_converters as _register_converters\n"
     ]
    }
   ],
   "source": [
    "import mxnet as mx\n",
    "import time\n",
    "import numpy as np"
   ]
  },
  {
   "cell_type": "code",
   "execution_count": 20,
   "metadata": {},
   "outputs": [],
   "source": [
    "img =mx.nd.random.uniform(0, 1, shape=(1,64,32,32))\n",
    "nclusters=64\n",
    "indices=mx.nd.random.uniform(0, 1, shape=(1,128,nclusters))\n",
    "indices4=mx.nd.array(np.random.choice(64, 128)) #shape = (128,)\n",
    "\n",
    "data=mx.sym.Variable('data')\n",
    "indices_sym=mx.sym.Variable('indices', shape=indices.shape)\n",
    "indices_sym4=mx.sym.Variable('indices', shape=indices4.shape)\n",
    "\n",
    "ctx=mx.cpu()\n",
    "\n",
    "data_iter = mx.io.NDArrayIter(img, batch_size= 1, label_name=None)\n",
    "\n",
    "sym1=mx.sym.Convolution(data, num_filter=128, kernel=(3,3))\n",
    "sym2=mx.sym.Convolution(data, num_filter=1024, kernel=(3,3), num_group=64)\n",
    "\n",
    "sym3=mx.sym.Convolution(data, num_filter=nclusters, kernel=(3,3))\n",
    "sym3=mx.sym.batch_dot(lhs=indices_sym,rhs=sym3.reshape((0,0,-1)))\n",
    "\n",
    "sym4=mx.sym.Convolution(data, num_filter=nclusters, kernel=(3,3))\n",
    "for\n",
    "\n",
    "mod1=mx.mod.Module(symbol=sym1, context=ctx)\n",
    "mod2=mx.mod.Module(symbol=sym2, context=ctx)\n",
    "mod3=mx.mod.Module(symbol=sym3, context=ctx)\n",
    "mod4=mx.mod.Module(symbol=sym4, context=ctx)\n",
    "\n",
    "args3={\"indices\": indices}\n",
    "\n",
    "\n",
    "mod1.bind( data_shapes=data_iter.provide_data)\n",
    "mod2.bind( data_shapes=data_iter.provide_data)\n",
    "mod3.bind( data_shapes=data_iter.provide_data)\n",
    "mod4.bind( data_shapes=data_iter.provide_data)\n",
    "\n",
    "mod1.init_params()\n",
    "mod2.init_params()\n",
    "mod3.set_params(arg_params=args3, aux_params=None, allow_missing=True)"
   ]
  },
  {
   "cell_type": "code",
   "execution_count": 22,
   "metadata": {},
   "outputs": [
    {
     "name": "stdout",
     "output_type": "stream",
     "text": [
      "1.93763184547\n",
      "1.30019211769\n"
     ]
    }
   ],
   "source": [
    "begin=time.time()\n",
    "for i in range(500):\n",
    "    mod1.predict(data_iter).asnumpy()\n",
    "print time.time()-begin\n",
    "\n",
    "\n",
    "#begin=time.time()\n",
    "#for i in range(100):\n",
    "#    mod2.predict(data_iter).asnumpy()\n",
    "#print time.time()-begin\n",
    "\n",
    "begin=time.time()\n",
    "for i in range(500):\n",
    "    mod3.predict(data_iter).asnumpy()\n",
    "print time.time()-begin\n"
   ]
  },
  {
   "cell_type": "code",
   "execution_count": 18,
   "metadata": {},
   "outputs": [
    {
     "data": {
      "text/plain": [
       "1.25"
      ]
     },
     "execution_count": 18,
     "metadata": {},
     "output_type": "execute_result"
    }
   ],
   "source": [
    "2/1.6"
   ]
  },
  {
   "cell_type": "code",
   "execution_count": null,
   "metadata": {},
   "outputs": [],
   "source": []
  },
  {
   "cell_type": "code",
   "execution_count": 17,
   "metadata": {},
   "outputs": [],
   "source": [
    "img2 =mx.nd.random.uniform(0, 1, shape=(1,16,32,32))\n"
   ]
  },
  {
   "cell_type": "code",
   "execution_count": null,
   "metadata": {},
   "outputs": [],
   "source": [
    "img.reshape()"
   ]
  },
  {
   "cell_type": "code",
   "execution_count": null,
   "metadata": {},
   "outputs": [],
   "source": []
  },
  {
   "cell_type": "code",
   "execution_count": 5,
   "metadata": {},
   "outputs": [],
   "source": [
    "img =mx.nd.random.uniform(0, 1, shape=(16,32,32)) #shape=(16,32,32)\n",
    "indices = mx.nd.array(np.random.choice(16, 128)) #shape = (128,)"
   ]
  },
  {
   "cell_type": "code",
   "execution_count": 8,
   "metadata": {},
   "outputs": [
    {
     "data": {
      "text/plain": [
       "(128L, 32L, 32L)"
      ]
     },
     "execution_count": 8,
     "metadata": {},
     "output_type": "execute_result"
    }
   ],
   "source": [
    "#mx.nd.pick(data=img,index=indices).shape\n",
    "#mx.nd.batch_take(a=img,indices=indices).shape\n",
    "mx.nd.take(img,indices).shape"
   ]
  },
  {
   "cell_type": "code",
   "execution_count": null,
   "metadata": {},
   "outputs": [],
   "source": [
    "#print img.slice_axis(axis=0, begin=0, end=1)\n",
    "#print img[0]\n",
    "np.array_equal(img.slice_axis(axis=0, begin=0, end=1).squeeze().asnumpy(), img[0].asnumpy())"
   ]
  },
  {
   "cell_type": "code",
   "execution_count": null,
   "metadata": {},
   "outputs": [],
   "source": [
    "print img[0]"
   ]
  },
  {
   "cell_type": "code",
   "execution_count": null,
   "metadata": {},
   "outputs": [],
   "source": []
  },
  {
   "cell_type": "code",
   "execution_count": null,
   "metadata": {},
   "outputs": [],
   "source": [
    "img =mx.nd.array([[1,2,3],[4,5,6]])\n",
    "indices = mx.nd.array(np.random.choice(3, 2))"
   ]
  },
  {
   "cell_type": "code",
   "execution_count": null,
   "metadata": {},
   "outputs": [],
   "source": [
    "mx.nd.pick(img,indices)"
   ]
  },
  {
   "cell_type": "code",
   "execution_count": null,
   "metadata": {},
   "outputs": [],
   "source": [
    "indices"
   ]
  },
  {
   "cell_type": "code",
   "execution_count": null,
   "metadata": {},
   "outputs": [],
   "source": []
  },
  {
   "cell_type": "code",
   "execution_count": 9,
   "metadata": {},
   "outputs": [
    {
     "name": "stdout",
     "output_type": "stream",
     "text": [
      "(128L, 32L, 32L)\n"
     ]
    }
   ],
   "source": [
    "img =mx.nd.random.uniform(0, 1, shape=(16,32,32)) #shape=(16,32,32)\n",
    "indices = mx.nd.array(np.random.choice(16, 128)) #shape = (128,)\n",
    "result = mx.nd.take(img,indices).shape # shape (128L, 32L, 32L)"
   ]
  },
  {
   "cell_type": "code",
   "execution_count": 10,
   "metadata": {},
   "outputs": [
    {
     "name": "stdout",
     "output_type": "stream",
     "text": [
      "(128L, 16L, 32L, 32L)\n"
     ]
    }
   ],
   "source": [
    "img =mx.nd.random.uniform(0, 1, shape=(1,16,32,32)) #shape=(16,32,32)\n",
    "indices = mx.nd.array(np.random.choice(16, 128)) #shape = (128,)\n",
    "print mx.nd.take(img,indices).shape"
   ]
  },
  {
   "cell_type": "code",
   "execution_count": null,
   "metadata": {},
   "outputs": [],
   "source": [
    "img =mx.nd.random.uniform(0, 1, shape=(batch_size, 16,32,32)) #shape=(16,32,32)\n",
    "indices = mx.nd.array(np.random.choice(16, 128)) #shape = (128,)\n",
    "result = mx.nd.take(img,indices, axis=1).shape # shape (128L, 32L, 32L)"
   ]
  }
 ],
 "metadata": {
  "kernelspec": {
   "display_name": "Python 2",
   "language": "python",
   "name": "python2"
  },
  "language_info": {
   "codemirror_mode": {
    "name": "ipython",
    "version": 2
   },
   "file_extension": ".py",
   "mimetype": "text/x-python",
   "name": "python",
   "nbconvert_exporter": "python",
   "pygments_lexer": "ipython2",
   "version": "2.7.14"
  }
 },
 "nbformat": 4,
 "nbformat_minor": 2
}
