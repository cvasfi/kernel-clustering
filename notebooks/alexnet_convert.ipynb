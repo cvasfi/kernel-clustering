{
 "cells": [
  {
   "cell_type": "code",
   "execution_count": 1,
   "metadata": {},
   "outputs": [
    {
     "name": "stderr",
     "output_type": "stream",
     "text": [
      "/home/tapir/miniconda2/lib/python2.7/site-packages/h5py/__init__.py:36: FutureWarning: Conversion of the second argument of issubdtype from `float` to `np.floating` is deprecated. In future, it will be treated as `np.float64 == np.dtype(float).type`.\n",
      "  from ._conv import register_converters as _register_converters\n"
     ]
    }
   ],
   "source": [
    "import mxnet as mx\n",
    "import numpy as np\n",
    "import time\n",
    "from sklearn.cluster import KMeans\n",
    "import sys\n",
    "import os\n",
    "sys.path.append(os.path.dirname(os.getcwd()))\n",
    "import AlexNet"
   ]
  },
  {
   "cell_type": "code",
   "execution_count": 2,
   "metadata": {},
   "outputs": [],
   "source": [
    "def get_tensor(symbol_input, args, auxs, data_iter):\n",
    "    mod=mx.mod.Module(symbol=symbol_input, context=mx.cpu(),label_names=None)\n",
    "    mod.bind(for_training=False, data_shapes=data_iter.provide_data)\n",
    "    mod.set_params(args, auxs)\n",
    "    return mod.predict(eval_data=data_iter)\n"
   ]
  },
  {
   "cell_type": "code",
   "execution_count": 3,
   "metadata": {},
   "outputs": [],
   "source": [
    "prefix = \"../cnn_models/alexnet/bvlc_alexnet_clustered8x\"\n",
    "epoch = 0\n",
    "sym, args, auxs = mx.mod.module.load_checkpoint(prefix, epoch)\n",
    "sym_alex= AlexNet.get_symbol(1000)\n",
    "data_iter=mx.io.NDArrayIter(mx.nd.random_uniform(0,1,shape=(2,3,224,224)), batch_size=2)"
   ]
  },
  {
   "cell_type": "code",
   "execution_count": 4,
   "metadata": {},
   "outputs": [],
   "source": [
    "tensor1=get_tensor(sym.get_internals()['pool1_output'],args, auxs, data_iter=data_iter)\n",
    "tensor2=get_tensor(sym_alex.get_internals()['pool1_output'],args, auxs, data_iter=data_iter)\n"
   ]
  },
  {
   "cell_type": "code",
   "execution_count": 5,
   "metadata": {},
   "outputs": [
    {
     "name": "stdout",
     "output_type": "stream",
     "text": [
      "(2L, 96L, 27L, 27L)\n",
      "(2L, 96L, 26L, 26L)\n"
     ]
    },
    {
     "data": {
      "text/plain": [
       "False"
      ]
     },
     "execution_count": 5,
     "metadata": {},
     "output_type": "execute_result"
    }
   ],
   "source": [
    "print tensor1.shape\n",
    "print tensor2.shape\n",
    "np.array_equal(tensor1.asnumpy(), tensor2.asnumpy())"
   ]
  },
  {
   "cell_type": "code",
   "execution_count": null,
   "metadata": {},
   "outputs": [],
   "source": [
    "for x,y in zip(sym.get_internals().list_outputs(), sym_alex.get_internals().list_outputs()):\n",
    "    print x\n",
    "    if x!=y:\n",
    "        print \"false\"\n",
    "        print x\n",
    "        print y"
   ]
  },
  {
   "cell_type": "code",
   "execution_count": null,
   "metadata": {},
   "outputs": [],
   "source": []
  }
 ],
 "metadata": {
  "kernelspec": {
   "display_name": "Python 2",
   "language": "python",
   "name": "python2"
  },
  "language_info": {
   "codemirror_mode": {
    "name": "ipython",
    "version": 2
   },
   "file_extension": ".py",
   "mimetype": "text/x-python",
   "name": "python",
   "nbconvert_exporter": "python",
   "pygments_lexer": "ipython2",
   "version": "2.7.14"
  }
 },
 "nbformat": 4,
 "nbformat_minor": 2
}
