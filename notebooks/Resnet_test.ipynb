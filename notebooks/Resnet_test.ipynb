{
 "cells": [
  {
   "cell_type": "code",
   "execution_count": 20,
   "metadata": {},
   "outputs": [],
   "source": [
    "import mxnet as mx\n",
    "import numpy as np\n",
    "import sys\n",
    "import os\n",
    "import time\n",
    "sys.path.append(os.path.dirname(os.getcwd()))\n",
    "from convert_symbol import converter"
   ]
  },
  {
   "cell_type": "code",
   "execution_count": 21,
   "metadata": {},
   "outputs": [],
   "source": [
    "prefix=\"../cnn_models/resnet20_clustered_naive_4x\"\n",
    "epoch=0\n",
    "sym, args, auxs = mx.mod.module.load_checkpoint(prefix, epoch)\n",
    "batch_size=2\n",
    "data_path=\"../dataset/cifar10_val.rec\"\n",
    "val_iter=mx.image.ImageIter(batch_size=batch_size,data_shape=(3,32,32),path_imgrec=data_path)\n",
    "testarray=val_iter.next().data\n",
    "test_iter=mx.io.NDArrayIter(testarray,batch_size=batch_size)"
   ]
  },
  {
   "cell_type": "code",
   "execution_count": 22,
   "metadata": {},
   "outputs": [],
   "source": [
    "def get_out(symbol_input,in_args,in_auxs=None):\n",
    "    mod=mx.mod.Module(symbol=symbol_input, context=mx.gpu())\n",
    "    mod.bind(for_training=False, data_shapes=test_iter.provide_data)\n",
    "    mod.set_params(in_args, in_auxs)\n",
    "    begin=time.time()\n",
    "    score = mod.predict(eval_data=test_iter)\n",
    "    dur = time.time() - begin\n",
    "    return score, dur"
   ]
  },
  {
   "cell_type": "code",
   "execution_count": 23,
   "metadata": {},
   "outputs": [],
   "source": [
    "sym_in=sym.get_internals()['stage3_unit1_relu2_output']\n",
    "sym_out_original=sym.get_internals()['stage3_unit1_conv2_output']"
   ]
  },
  {
   "cell_type": "code",
   "execution_count": 24,
   "metadata": {},
   "outputs": [],
   "source": [
    "tensor_in,_=get_out(sym_in, args,auxs)\n",
    "tensor_out_original,_=get_out(sym_out_original, args,auxs)"
   ]
  },
  {
   "cell_type": "code",
   "execution_count": 25,
   "metadata": {},
   "outputs": [],
   "source": [
    "#test1_arg ={'weight': args['stage3_unit1_conv2_weight']}\n",
    "wshape=args['stage3_unit1_conv2_weight'].shape\n",
    "args['test1_weight'] = args['stage3_unit1_conv2_weight']\n",
    "weight_sym=mx.sym.Variable(\"test1_weight\")\n",
    "sym_test = mx.sym.Convolution(sym_in, weight=weight_sym, num_filter=wshape[0], kernel = (3,3), pad = (1,1), no_bias=True)\n",
    "\n",
    "tensor_test, time1 = get_out(sym_test,args,auxs)\n"
   ]
  },
  {
   "cell_type": "code",
   "execution_count": 26,
   "metadata": {},
   "outputs": [
    {
     "data": {
      "text/plain": [
       "(2L, 64L, 8L, 8L)"
      ]
     },
     "execution_count": 26,
     "metadata": {},
     "output_type": "execute_result"
    }
   ],
   "source": [
    "tensor_test.shape"
   ]
  },
  {
   "cell_type": "code",
   "execution_count": 27,
   "metadata": {},
   "outputs": [
    {
     "data": {
      "text/plain": [
       "True"
      ]
     },
     "execution_count": 27,
     "metadata": {},
     "output_type": "execute_result"
    }
   ],
   "source": [
    "np.array_equal(tensor_out_original.asnumpy(),tensor_test.asnumpy())"
   ]
  },
  {
   "cell_type": "code",
   "execution_count": 28,
   "metadata": {},
   "outputs": [
    {
     "name": "stdout",
     "output_type": "stream",
     "text": [
      "processing symbol\n",
      "symbol processed, clusters extracted.\n"
     ]
    }
   ],
   "source": [
    "cv = converter(prefix, epoch, batch_size=2, data_path=\"../dataset/cifar10_val.rec\", shrink = 4)"
   ]
  },
  {
   "cell_type": "code",
   "execution_count": 29,
   "metadata": {},
   "outputs": [],
   "source": [
    "def convolve_codebook_light(data, layer, name, num_filter = None, kernel=(3,3), stride=(1,1), pad=(1,1),\n",
    "                                  no_bias=True):\n",
    "    fshape = layer[\"f_shape\"]\n",
    "    codebookshape = layer[\"c_shape\"]\n",
    "    indices_shape = layer[\"i_shape\"]\n",
    "    output_shape = layer[\"out_shape\"]\n",
    "    filters = mx.sym.Variable(name+\"_weight\", shape=codebookshape)\n",
    "    indices = mx.sym.Variable(name+\"_indices\", shape=indices_shape)\n",
    "    # fshape  = codebookshape #4,16,3,3\n",
    "    # filters = mx.sym.transpose(filters, axes=(1,0,2,3)).reshape((-1,1,0, 0)) #TODO: transpose is unnecessary!!\n",
    "    res = mx.sym.Convolution(data=data, weight=filters, num_group=fshape[1], num_filter=fshape[0] * fshape[1], stride = stride,\n",
    "                             no_bias=no_bias, kernel=kernel, pad=pad)\n",
    "    res = res.reshape((0, 0, -1))  # flatten the image for matmul lookup\n",
    "    res = mx.sym.batch_dot(lhs=indices, rhs=res)\n",
    "    res = res.reshape((0, 0, output_shape[2], output_shape[3]))\n",
    "    return res"
   ]
  },
  {
   "cell_type": "code",
   "execution_count": 30,
   "metadata": {},
   "outputs": [],
   "source": [
    "#test1_arg ={'weight': args['stage3_unit1_conv2_weight']}\n",
    "wshape=args['stage3_unit1_conv2_weight'].shape\n",
    "args['test2_weight'] = cv.codebook_args['stage3_unit1_conv2_weight']\n",
    "args['test2_indices'] =  cv.codebook_args['stage3_unit1_conv2_indices']\n",
    "\n",
    "sym_test2 = convolve_codebook_light(sym_in, name=\"test2\", layer = cv.network['stage3_unit1_conv2'], kernel = (3,3), pad = (1,1), no_bias=True)\n",
    "\n",
    "tensor_test2, time2 = get_out(sym_test2,args,auxs)\n"
   ]
  },
  {
   "cell_type": "code",
   "execution_count": 31,
   "metadata": {},
   "outputs": [
    {
     "data": {
      "text/plain": [
       "2.7678546e-13"
      ]
     },
     "execution_count": 31,
     "metadata": {},
     "output_type": "execute_result"
    }
   ],
   "source": [
    "np.mean(np.square(tensor_out_original.asnumpy()-tensor_test2.asnumpy()))"
   ]
  },
  {
   "cell_type": "code",
   "execution_count": 32,
   "metadata": {},
   "outputs": [
    {
     "name": "stdout",
     "output_type": "stream",
     "text": [
      "0.000504016876221\n",
      "0.00086498260498\n"
     ]
    }
   ],
   "source": [
    "print time1\n",
    "print time2"
   ]
  },
  {
   "cell_type": "code",
   "execution_count": null,
   "metadata": {},
   "outputs": [],
   "source": [
    "cv.convert()"
   ]
  },
  {
   "cell_type": "code",
   "execution_count": null,
   "metadata": {},
   "outputs": [],
   "source": [
    "tensor_test2_2=get_out(cv.converted_sym.get_internals()['stage3_unit1_conv2_reshape_output'], cv.codebook_args, auxs)"
   ]
  },
  {
   "cell_type": "code",
   "execution_count": null,
   "metadata": {},
   "outputs": [],
   "source": [
    "cv.converted_sym.get_internals().list_outputs()"
   ]
  },
  {
   "cell_type": "code",
   "execution_count": null,
   "metadata": {},
   "outputs": [],
   "source": [
    "np.mean(np.square(tensor_test2.asnumpy()-tensor_test2_2.asnumpy()))"
   ]
  },
  {
   "cell_type": "code",
   "execution_count": null,
   "metadata": {},
   "outputs": [],
   "source": []
  },
  {
   "cell_type": "code",
   "execution_count": null,
   "metadata": {},
   "outputs": [],
   "source": [
    "sym_original_output=sym#.get_internals()['softmax_output']\n",
    "tensor_original_output=get_out(sym_original_output, args,auxs)\n",
    "\n",
    "clustered_output=get_out(cv.converted_sym, cv.codebook_args, auxs)\n",
    "\n",
    "np.mean(np.square(tensor_original_output.asnumpy()-clustered_output.asnumpy()))"
   ]
  },
  {
   "cell_type": "code",
   "execution_count": null,
   "metadata": {},
   "outputs": [],
   "source": [
    "    def get_score(symbol_input,in_args,in_auxs=None):\n",
    "        mod=mx.mod.Module(symbol=symbol_input, context=mx.gpu())\n",
    "        mod.bind(for_training=False, data_shapes=val_iter.provide_data, label_shapes=val_iter.provide_label)\n",
    "        mod.set_params(in_args, in_auxs)\n",
    "        return mod.score(val_iter,['acc'])"
   ]
  },
  {
   "cell_type": "code",
   "execution_count": null,
   "metadata": {},
   "outputs": [],
   "source": [
    "import time"
   ]
  },
  {
   "cell_type": "code",
   "execution_count": null,
   "metadata": {},
   "outputs": [],
   "source": [
    "begin=time.time()\n",
    "print get_score(sym,args,auxs)\n",
    "print time.time() - begin"
   ]
  },
  {
   "cell_type": "code",
   "execution_count": null,
   "metadata": {},
   "outputs": [],
   "source": [
    "begin=time.time()\n",
    "get_score(cv.converted_sym,cv.codebook_args,auxs)\n",
    "print time.time() - begin"
   ]
  },
  {
   "cell_type": "code",
   "execution_count": null,
   "metadata": {},
   "outputs": [],
   "source": []
  }
 ],
 "metadata": {
  "kernelspec": {
   "display_name": "Python 2",
   "language": "python",
   "name": "python2"
  },
  "language_info": {
   "codemirror_mode": {
    "name": "ipython",
    "version": 2
   },
   "file_extension": ".py",
   "mimetype": "text/x-python",
   "name": "python",
   "nbconvert_exporter": "python",
   "pygments_lexer": "ipython2",
   "version": "2.7.14"
  }
 },
 "nbformat": 4,
 "nbformat_minor": 2
}
